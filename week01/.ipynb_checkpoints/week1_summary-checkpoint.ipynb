{
 "cells": [
  {
   "cell_type": "markdown",
   "metadata": {},
   "source": [
    "## 用 add first 或 add last 这套新的 API 改写 Deque 的代码"
   ]
  },
  {
   "cell_type": "markdown",
   "metadata": {},
   "source": [
    "Deque<String> deque = new LinkedList<String>();\n",
    "\n",
    "deque.addFirst(\"a\");\n",
    "deque.addFirst(\"b\");\n",
    "deque.addFirst(\"c\");\n",
    "System.out.println(deque);\n",
    "\n",
    "String str = deque.peekFirst();\n",
    "System.out.println(str);\n",
    "System.out.println(deque);\n",
    "\n",
    "while(deque.size() > 0){\n",
    "    System.out.prinln(removeFirst())\n",
    "        }\n",
    "System.out.println(deque);"
   ]
  },
  {
   "cell_type": "markdown",
   "metadata": {},
   "source": [
    "## 分析 Queue 和 Priority Queue 的源码"
   ]
  },
  {
   "cell_type": "markdown",
   "metadata": {},
   "source": [
    "这里主要是看了Python的queue和heapq源码\n",
    "\n",
    "Queue:\n",
    "\n",
    "queue.put() 把元素放入队列中\n",
    "\n",
    "用列表来实现，先检查队列是不是满了，满了就给出提示raise Full，如果没满就从后面往列表里加入元素 self.queue.append(item)\n",
    "\n",
    "queue.get() 把元素从队列中删除并且返回该元素\n",
    "\n",
    "先检查队列是不是空的，空的就给出提示raise Empty，如果不是空的就从列表前面弹出元素 self.queue.popleft()\n",
    "\n",
    "\n",
    "\n",
    "Priority Queue:\n",
    "\n",
    "队列中的元素没有按照大小进行排序，只是收到返回值的影响，按照一定的顺序（自然排序或者定制排序）访问队列。\n",
    "\n",
    "_put()把元素放入队列中，是堆来实现的。heappush(self.queue, item)用来建立小根堆，实现排序。\n",
    "\n",
    "_get()把元素从队列中删除并且返回该元素，也是用堆来实现的。heappop(self.queue)，先建立小根堆，然后每次heappop()，此时得到从小大的排列，这样能够实现按一定的优先级对元素进行操作。\n",
    "    "
   ]
  },
  {
   "cell_type": "markdown",
   "metadata": {},
   "source": [
    "## 小结"
   ]
  },
  {
   "cell_type": "markdown",
   "metadata": {},
   "source": [
    "本周开启课程学习的时间比较迟，因为周一周二在准备一些面试的东西。导致题目没有能够练习三遍以上，面试的时候手撕代码用到了本周刷题的旋转数组的小技巧，能写出来，但是面试时候链表题还是写不出来，题目也见过，就是只刷了一遍很不熟练。所以下周开始，尽量在周一周二把课程看完，这样能够有一整周的时间反复刷当周的题目。遍数真的太重要了，没过遍数，相当于没写过该题，思路不顺畅不熟练导致思考时间比较久。\n",
    "\n",
    "这周学习了数组、链表、跳表、队列、栈、双端队列的内容，做了小笔记。开始习惯思考时间复杂度了，现在做leetcode的一些题，发现暴力解法运算会超时，比如说42接雨水。不过暴力算法的确是理清思路的开始，现在变成先看一遍暴力解法，写一遍捋清楚思路之后再看能学会的时间复杂度比较小的方法，方法都会看一下但是重复遍数的时候还是只用一种方法（时间复杂度比较小然后逻辑自己能理解的），不知道这样练习对不对？把每个方法都掌握重复做一题感觉太繁杂了，而且精力有限。\n",
    "\n",
    "最近也在投递秋招，已经秋招尾声了，还在资源池里泡着，小厂投了又害怕是皮包公司哈哈哈，还是想去大厂，除了努力掌握算法让手撕代码环节OK一点，别无他法。这周面了一家大厂，可能是因为学历背景和投的岗位不是很匹配，所以手撕代码没有问很难的题目。但是比较惨的是，让我写排序，我只会冒泡，虽然我也知道冒泡时间复杂度大概是O(N^2),超哥也说了在工程上不会用了。太惨了，虽然知道又快排、归并之类的，奈何不会写。\n",
    "\n",
    "面试手撕代码过程中发现自己比较弱的地方: 链表反转、高级一点的排序。\n",
    "\n",
    "好了，滚去刷遍数了。下周除了做训练营的题，打算专项再反复练经典的链表题目。\n",
    "\n",
    "\n",
    "2020年10月25日\n",
    "唐漫霜"
   ]
  }
 ],
 "metadata": {
  "kernelspec": {
   "display_name": "Python 3",
   "language": "python",
   "name": "python3"
  },
  "language_info": {
   "codemirror_mode": {
    "name": "ipython",
    "version": 3
   },
   "file_extension": ".py",
   "mimetype": "text/x-python",
   "name": "python",
   "nbconvert_exporter": "python",
   "pygments_lexer": "ipython3",
   "version": "3.7.4"
  }
 },
 "nbformat": 4,
 "nbformat_minor": 4
}
