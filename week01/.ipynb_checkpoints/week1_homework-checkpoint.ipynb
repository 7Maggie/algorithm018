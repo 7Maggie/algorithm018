{
 "cells": [
  {
   "cell_type": "markdown",
   "metadata": {},
   "source": [
    "# 简单"
   ]
  },
  {
   "cell_type": "markdown",
   "metadata": {},
   "source": [
    "## 26. 删除排序数组中的重复项"
   ]
  },
  {
   "cell_type": "code",
   "execution_count": null,
   "metadata": {},
   "outputs": [],
   "source": [
    "class Solution:\n",
    "    def removeDuplicates(self, nums: List[int]) -> int:\n",
    "        # 前指针\n",
    "        i = 0\n",
    "        # 后指针\n",
    "        j = 1\n",
    "\n",
    "        while j < len(nums):\n",
    "            # num[i]这一段重复数字结束 -> [1,1,2],nums[i] = 1, j 从nums[j] = 1 一直往后跑到nums[j] = 2，此时这段[1,1]重复数字结束\n",
    "            if nums[i] != nums[j]:\n",
    "                # 优化，当数组中没有重复数字，可以不进行复制\n",
    "                if (j - i > 1):\n",
    "                    # 把nums[j]复制到i的后一个位置\n",
    "                    nums[i+1] = nums[j]\n",
    "                i += 1\n",
    "                \n",
    "            # 表示i到j的这一段是重复数字\n",
    "            j += 1\n",
    "        \n",
    "        return i+1"
   ]
  },
  {
   "cell_type": "markdown",
   "metadata": {},
   "source": [
    "## 旋转数组"
   ]
  },
  {
   "cell_type": "code",
   "execution_count": null,
   "metadata": {},
   "outputs": [],
   "source": [
    "class Solution:\n",
    "    def rotate(self, nums: List[int], k: int) -> None:\n",
    "        \"\"\"\n",
    "        Do not return anything, modify nums in-place instead.\n",
    "        \"\"\"\n",
    "        n = len(nums)\n",
    "        # 实际移动位置 -> 当 n%k = 0时，相当于没移动\n",
    "        k = k%n\n",
    "        def swap(left,right):\n",
    "            while(left<right):\n",
    "                nums[left],nums[right] = nums[right],nums[left]\n",
    "                left += 1\n",
    "                right -= 1\n",
    "        # 三次反转法，把数组分为两段，先反转第一段 -> [1,2,3,4] -> [4,3,2,1,5,6,7]\n",
    "        swap(0,n-k-1)\n",
    "        # 反转第二段 -> [5,6,7] -> [4,3,2,1,7,6,5]\n",
    "        swap(n-k,n-1)\n",
    "        # 整体反转 -> [7,6,5,4,3,2,1] -> [5,6,7,1,2,3,4]\n",
    "        swap(0,n-1)"
   ]
  },
  {
   "cell_type": "markdown",
   "metadata": {},
   "source": [
    "## 21 合并两个有序链表"
   ]
  },
  {
   "cell_type": "code",
   "execution_count": null,
   "metadata": {},
   "outputs": [],
   "source": [
    "class Solution:\n",
    "    def mergeTwoLists(self, l1: ListNode, l2: ListNode) -> ListNode:\n",
    "        # 结束条件\n",
    "        if not l1:\n",
    "            return l2\n",
    "        elif not l2:\n",
    "            return l1\n",
    "        # 每次选取头节点小的，让它和有序链表相连，每一层调用都返回排序好的链表头\n",
    "        elif l1.val < l2.val:\n",
    "            l1.next = self.mergeTwoLists(l1.next,l2)\n",
    "            return l1\n",
    "        else:\n",
    "            l2.next = self.mergeTwoLists(l1,l2.next)\n",
    "            return l2"
   ]
  },
  {
   "cell_type": "markdown",
   "metadata": {},
   "source": [
    "## 合并两个有序数组"
   ]
  },
  {
   "cell_type": "code",
   "execution_count": 12,
   "metadata": {},
   "outputs": [
    {
     "data": {
      "text/plain": [
       "1"
      ]
     },
     "execution_count": 12,
     "metadata": {},
     "output_type": "execute_result"
    }
   ],
   "source": [
    "class Solution:\n",
    "    def merge(self, nums1: List[int], m: int, nums2: List[int], n: int) -> None:\n",
    "        \"\"\"\n",
    "        Do not return anything, modify nums1 in-place instead.\n",
    "        \"\"\"\n",
    "        if m == 0:\n",
    "            for i in range(n):\n",
    "                nums1[i] = nums2[i]\n",
    "        # 从后向前遍历，从后向前填充Nums1\n",
    "        # 如果num1最大的数小于nums2最大的数，那就把nums2最大的数放到nums1末尾\n",
    "        while m != 0:\n",
    "            if n > 0 and nums1[m-1] < nums2[n-1]:\n",
    "                nums1[m+n-1] = nums2[n-1]\n",
    "                n -= 1\n",
    "            # 否则，把Num1最大的数复制一份到末尾\n",
    "            else:\n",
    "                nums1[m+n-1] = nums1[m-1]\n",
    "                m -= 1\n",
    "        # nums1遍历结束但是nums2还没有遍历完，直接把Nums2剩下的从后往前填充到nums1\n",
    "        while n != 0:\n",
    "            nums1[m+n-1] = nums2[n-1]\n",
    "            n -= 1"
   ]
  },
  {
   "cell_type": "markdown",
   "metadata": {},
   "source": [
    "## 两数之和"
   ]
  },
  {
   "cell_type": "code",
   "execution_count": null,
   "metadata": {},
   "outputs": [],
   "source": [
    "from typing import List\n",
    "class Solution:\n",
    "    def twoSum(self, nums: List[int], target: int) -> List[int]:\n",
    "        # 键：数组中的元素，值：元素下标\n",
    "        hashtable = dict()\n",
    "        for idx,element in enumerate(nums):\n",
    "            # 要找的数->goal，看之前有没有存在哈希表里\n",
    "            goal = target - element\n",
    "            if goal in hashtable:\n",
    "                return [hashtable[goal],idx]\n",
    "            else:\n",
    "                hashtable[element] = idx"
   ]
  },
  {
   "cell_type": "markdown",
   "metadata": {},
   "source": [
    "## 283 移动零"
   ]
  },
  {
   "cell_type": "code",
   "execution_count": 4,
   "metadata": {},
   "outputs": [],
   "source": [
    "from typing import List\n",
    "class Solution:\n",
    "    def moveZeroes(self, nums: List[int]) -> None:\n",
    "        \"\"\"\n",
    "        Do not return anything, modify nums in-place instead.\n",
    "        \"\"\"\n",
    "        # 用指针j记录0的位置\n",
    "        j = 0\n",
    "        for i in range(len(nums)):\n",
    "            if nums[i] != 0:\n",
    "                # 交换\n",
    "                nums[i],nums[j] = nums[j],nums[i]\n",
    "                j += 1\n",
    "        return nums"
   ]
  },
  {
   "cell_type": "markdown",
   "metadata": {},
   "source": [
    "## 66 加一"
   ]
  },
  {
   "cell_type": "code",
   "execution_count": 5,
   "metadata": {},
   "outputs": [],
   "source": [
    "from typing import List\n",
    "class Solution:\n",
    "    def plusOne(self, digits: List[int]) -> List[int]:\n",
    "        n = len(digits) - 1\n",
    "        # 从最末尾的数字开始循环，遇到进位就把该位置的数字修改为0\n",
    "        for i in range(n,-1,-1):\n",
    "            digits[i] = digits[i] + 1\n",
    "            digits[i] = digits[i] % 10\n",
    "            if digits[i] != 0:\n",
    "                return digits\n",
    "        # 以上循环结束，如果还没有得出结果，说明最高位需要进位，那就在数组最前面加一位1，后面全0\n",
    "        new_digits = [1,]\n",
    "        new_digits.extend(digits)\n",
    "        return new_digits"
   ]
  },
  {
   "cell_type": "markdown",
   "metadata": {},
   "source": [
    "# 中等"
   ]
  },
  {
   "cell_type": "markdown",
   "metadata": {},
   "source": [
    "## 设计循环双端队列"
   ]
  },
  {
   "cell_type": "code",
   "execution_count": null,
   "metadata": {},
   "outputs": [],
   "source": [
    "class MyCircularDeque:\n",
    "\n",
    "    def __init__(self, k: int):\n",
    "        \"\"\"\n",
    "        Initialize your data structure here. Set the size of the deque to be k.\n",
    "        \"\"\"\n",
    "        # 指向队头元素\n",
    "        self.front = 0\n",
    "        # 指向队尾元素\n",
    "        self.rear = 0\n",
    "        # 题目设计getFront()，getRear()为空时返回-1，因此在初始化数组时把元素设置为-1\n",
    "        self.data = [-1]*k\n",
    "        self.capacity = k\n",
    "        self.size = 0\n",
    "        \n",
    "\n",
    "    def insertFront(self, value: int) -> bool:\n",
    "        \"\"\"\n",
    "        Adds an item at the front of Deque. Return true if the operation is successful.\n",
    "        \"\"\"\n",
    "        if self.isFull():\n",
    "            return False\n",
    "        \n",
    "        if self.isEmpty():\n",
    "            self.data[self.front] = value\n",
    "        else:\n",
    "            # 是循环队列，注意取模\n",
    "            self.front = (self.front -1) % self.capacity\n",
    "            self.data[self.front] = value\n",
    "\n",
    "        self.size += 1\n",
    "        return True\n",
    "        \n",
    "\n",
    "    def insertLast(self, value: int) -> bool:\n",
    "        \"\"\"\n",
    "        Adds an item at the rear of Deque. Return true if the operation is successful.\n",
    "        \"\"\"\n",
    "        if self.isFull():\n",
    "            return False\n",
    "        \n",
    "        if self.isEmpty():\n",
    "            self.data[self.rear] = value\n",
    "        else:\n",
    "            self.rear = (self.rear + 1) % self.capacity\n",
    "            self.data[self.rear] = value\n",
    "        self.size += 1\n",
    "        return True\n",
    "        \n",
    "\n",
    "    def deleteFront(self) -> bool:\n",
    "        \"\"\"\n",
    "        Deletes an item from the front of Deque. Return true if the operation is successful.\n",
    "        \"\"\"\n",
    "        if self.isEmpty():\n",
    "            return False\n",
    "        self.data[self.front] = -1\n",
    "        self.front = (self.front + 1) % self.capacity\n",
    "        self.size -= 1\n",
    "\n",
    "        # 注意，当删除队头元素后，还要检查数组是否为空，如果为空，尾指针要设置到和此时头指针一个位置\n",
    "        if self.isEmpty():\n",
    "            self.rear = self.front\n",
    "        return True\n",
    "        \n",
    "\n",
    "    def deleteLast(self) -> bool:\n",
    "        \"\"\"\n",
    "        Deletes an item from the rear of Deque. Return true if the operation is successful.\n",
    "        \"\"\"\n",
    "        if self.isEmpty():\n",
    "            return False\n",
    "        self.data[self.rear] = -1\n",
    "        self.rear = (self.rear - 1) % self.capacity\n",
    "        self.size -= 1\n",
    "\n",
    "        # 注意，当删除队尾元素后，还要检查数组是否为空，如果为空，头指针要设置到和此时尾指针一个位置\n",
    "        if self.isEmpty():\n",
    "            self.front = self.rear\n",
    "        return True\n",
    "        \n",
    "\n",
    "    def getFront(self) -> int:\n",
    "        \"\"\"\n",
    "        Get the front item from the deque.\n",
    "        \"\"\"\n",
    "        return self.data[self.front]\n",
    "        \n",
    "\n",
    "    def getRear(self) -> int:\n",
    "        \"\"\"\n",
    "        Get the last item from the deque.\n",
    "        \"\"\"\n",
    "        return self.data[self.rear]\n",
    "        \n",
    "\n",
    "    def isEmpty(self) -> bool:\n",
    "        \"\"\"\n",
    "        Checks whether the circular deque is empty or not.\n",
    "        \"\"\"\n",
    "        return self.size == 0\n",
    "\n",
    "    def isFull(self) -> bool:\n",
    "        \"\"\"\n",
    "        Checks whether the circular deque is full or not.\n",
    "        \"\"\"\n",
    "        return self.size == self.capacity\n",
    "\n",
    "\n",
    "# Your MyCircularDeque object will be instantiated and called as such:\n",
    "# obj = MyCircularDeque(k)\n",
    "# param_1 = obj.insertFront(value)\n",
    "# param_2 = obj.insertLast(value)\n",
    "# param_3 = obj.deleteFront()\n",
    "# param_4 = obj.deleteLast()\n",
    "# param_5 = obj.getFront()\n",
    "# param_6 = obj.getRear()\n",
    "# param_7 = obj.isEmpty()\n",
    "# param_8 = obj.isFull()"
   ]
  },
  {
   "cell_type": "markdown",
   "metadata": {},
   "source": [
    "# 困难"
   ]
  },
  {
   "cell_type": "markdown",
   "metadata": {},
   "source": [
    "## 接雨水"
   ]
  },
  {
   "cell_type": "code",
   "execution_count": 13,
   "metadata": {},
   "outputs": [],
   "source": [
    "from typing import List\n",
    "class Solution:\n",
    "    def trap(self, height: List[int]) -> int:\n",
    "        # 用单调递减栈，当遇到高于栈顶的柱子时，说明能够形成低洼储水，弹出栈顶\n",
    "        stack = list()\n",
    "        res = 0\n",
    "        for i in range(len(height)):\n",
    "            while len(stack) != 0 and height[i] > height[stack[-1]]:\n",
    "                top = stack.pop()\n",
    "                if len(stack) == 0:\n",
    "                    break\n",
    "                # 当前柱子和栈顶元素的距离->宽度\n",
    "                distance = i - stack[-1] -1\n",
    "                # 储水实际高度\n",
    "                bound = min(height[stack[-1]],height[i]) - height[top]\n",
    "                res += distance * bound\n",
    "            stack.append(i)\n",
    "        return res"
   ]
  }
 ],
 "metadata": {
  "kernelspec": {
   "display_name": "Python 3",
   "language": "python",
   "name": "python3"
  },
  "language_info": {
   "codemirror_mode": {
    "name": "ipython",
    "version": 3
   },
   "file_extension": ".py",
   "mimetype": "text/x-python",
   "name": "python",
   "nbconvert_exporter": "python",
   "pygments_lexer": "ipython3",
   "version": "3.7.4"
  }
 },
 "nbformat": 4,
 "nbformat_minor": 4
}
