{
 "cells": [
  {
   "cell_type": "markdown",
   "metadata": {},
   "source": [
    "## 简单"
   ]
  },
  {
   "cell_type": "markdown",
   "metadata": {},
   "source": [
    "### 242. 有效的字母异位词"
   ]
  },
  {
   "cell_type": "code",
   "execution_count": 5,
   "metadata": {},
   "outputs": [],
   "source": [
    "class Solution:\n",
    "    def isAnagram(self, s: str, t: str) -> bool:\n",
    "        if len(s) != len(t):\n",
    "            return False\n",
    "        # 把字母出现的次数存放在数组对应的位置\n",
    "        d = [0] * 26\n",
    "        # 遍历s,统计每个字母出现的频次\n",
    "        for i in s:\n",
    "            d[ord(i) - ord('a')] += 1\n",
    "        # 遍历t,字母每出现一次就在数组d的频次-1\n",
    "        for j in t:\n",
    "            d[ord(j) - ord('a')] -= 1\n",
    "            if d[ord(j) - ord('a')] < 0:\n",
    "                return False\n",
    "        return True"
   ]
  },
  {
   "cell_type": "markdown",
   "metadata": {},
   "source": [
    "### 1. 两数之和"
   ]
  },
  {
   "cell_type": "code",
   "execution_count": null,
   "metadata": {},
   "outputs": [],
   "source": [
    "class Solution:\n",
    "    def twoSum(self, nums: List[int], target: int) -> List[int]:\n",
    "        # 用哈希表，键：元素，值：下标\n",
    "        hashtable = dict()\n",
    "        for idx,element in enumerate(nums):\n",
    "            tmp = target - element\n",
    "            if tmp in hashtable:\n",
    "                return [hashtable[tmp],idx]\n",
    "            hashtable[element] = idx"
   ]
  },
  {
   "cell_type": "markdown",
   "metadata": {},
   "source": [
    "### 589. N叉树的前序遍历"
   ]
  },
  {
   "cell_type": "code",
   "execution_count": null,
   "metadata": {},
   "outputs": [],
   "source": [
    "# 递归\n",
    "class Solution:\n",
    "    def preorder(self, root: 'Node') -> List[int]:\n",
    "        res = list()\n",
    "        def preHelper(root):\n",
    "            if not root:\n",
    "                return\n",
    "            res.append(root.val)\n",
    "            for child in root.children:\n",
    "                preHelper(child)\n",
    "        preHelper(root)\n",
    "        return res"
   ]
  },
  {
   "cell_type": "code",
   "execution_count": null,
   "metadata": {},
   "outputs": [],
   "source": [
    "# 栈\n",
    "class Solution:\n",
    "    def preorder(self, root: 'Node') -> List[int]:\n",
    "        res = list()\n",
    "        if not root:\n",
    "            return res\n",
    "            \n",
    "        stack = [root,]\n",
    "        while stack:\n",
    "            root = stack.pop()\n",
    "            res.append(root.val)\n",
    "            stack.extend(root.children[::-1])\n",
    "        return res"
   ]
  },
  {
   "cell_type": "markdown",
   "metadata": {},
   "source": [
    "## 中等"
   ]
  },
  {
   "cell_type": "markdown",
   "metadata": {},
   "source": [
    "### 49. 字母异位词分组"
   ]
  },
  {
   "cell_type": "code",
   "execution_count": null,
   "metadata": {},
   "outputs": [],
   "source": [
    "class Solution:\n",
    "    def groupAnagrams(self, strs: List[str]) -> List[List[str]]:\n",
    "        # 如果是异位词，排序后都是一样的，因此把排序后的字符串作为键\n",
    "        d = dict()\n",
    "        for s in strs:\n",
    "            key = tuple(sorted(s))\n",
    "            if key not in d:\n",
    "                d[key] = [s,]\n",
    "            else:\n",
    "                d[key] = d[key] + [s,]\n",
    "        return list(d.values())"
   ]
  },
  {
   "cell_type": "markdown",
   "metadata": {},
   "source": [
    "### 94. 二叉树的中序遍历"
   ]
  },
  {
   "cell_type": "code",
   "execution_count": null,
   "metadata": {},
   "outputs": [],
   "source": [
    "# 递归\n",
    "class Solution:\n",
    "    def inorderTraversal(self, root: TreeNode) -> List[int]:\n",
    "        res = list()\n",
    "        def inorder(root):\n",
    "            if not root:\n",
    "                return\n",
    "            inorder(root.left)\n",
    "            res.append(root.val)\n",
    "            inorder(root.right)\n",
    "        inorder(root)\n",
    "        return res"
   ]
  },
  {
   "cell_type": "code",
   "execution_count": null,
   "metadata": {},
   "outputs": [],
   "source": [
    "# 栈\n",
    "class Solution:\n",
    "    def inorderTraversal(self, root: TreeNode) -> List[int]:\n",
    "        res = list()\n",
    "        stack = list()\n",
    "        if not root:\n",
    "            return res\n",
    "        while root or stack:\n",
    "            while root:\n",
    "                stack.append(root)\n",
    "                root = root.left\n",
    "            root = stack.pop()\n",
    "            res.append(root.val)\n",
    "            root = root.right\n",
    "        return res"
   ]
  },
  {
   "cell_type": "markdown",
   "metadata": {},
   "source": [
    "### 144. 二叉树的前序遍历"
   ]
  },
  {
   "cell_type": "code",
   "execution_count": null,
   "metadata": {},
   "outputs": [],
   "source": [
    "# 递归\n",
    "class Solution:\n",
    "    def preorderTraversal(self, root: TreeNode) -> List[int]:\n",
    "        res = list()\n",
    "        def preorder(root):\n",
    "            if not root:\n",
    "                return \n",
    "            res.append(root.val)\n",
    "            preorder(root.left)\n",
    "            preorder(root.right)\n",
    "        preorder(root)\n",
    "        return res"
   ]
  },
  {
   "cell_type": "code",
   "execution_count": null,
   "metadata": {},
   "outputs": [],
   "source": [
    "# 栈\n",
    "class Solution:\n",
    "    def preorderTraversal(self, root: TreeNode) -> List[int]:\n",
    "        stack = list()\n",
    "        res = list()\n",
    "        if not root:\n",
    "            return res\n",
    "        while root or stack:\n",
    "            while root:\n",
    "                res.append(root.val)\n",
    "                stack.append(root)\n",
    "                root = root.left\n",
    "            root = stack.pop()\n",
    "            root = root.right\n",
    "        return res"
   ]
  },
  {
   "cell_type": "markdown",
   "metadata": {},
   "source": [
    "### 429. N叉树的层序遍历"
   ]
  },
  {
   "cell_type": "code",
   "execution_count": null,
   "metadata": {},
   "outputs": [],
   "source": [
    "class Solution:\n",
    "    def levelOrder(self, root: 'Node') -> List[List[int]]:\n",
    "        res = list()\n",
    "        if not root:\n",
    "            return res\n",
    "        queue = [root,]\n",
    "        # bfs\n",
    "        while queue:\n",
    "            level = list()\n",
    "            tmp = list()\n",
    "            for node in queue:\n",
    "                tmp.append(node.val)\n",
    "                # 当前层每个节点的子节点\n",
    "                level.extend(node.children)\n",
    "            res.append(tmp)\n",
    "            # 进入下一层\n",
    "            queue = level\n",
    "        return res"
   ]
  },
  {
   "cell_type": "markdown",
   "metadata": {},
   "source": [
    "### 剑指 Offer 49. 丑数"
   ]
  },
  {
   "cell_type": "code",
   "execution_count": 12,
   "metadata": {},
   "outputs": [
    {
     "data": {
      "text/plain": [
       "Counter({1: 1, 2: 2, 3: 1, 4: 2})"
      ]
     },
     "execution_count": 12,
     "metadata": {},
     "output_type": "execute_result"
    }
   ],
   "source": [
    "# 丑数 * 2， 丑数 *3, 丑数 * 5 仍然为丑数\n",
    "# 用最小堆来保证从小到大的顺序，同时用集合的差集来控制压入堆的元素不重复\n",
    "class Solution:\n",
    "    def nthUglyNumber(self, n: int) -> int:\n",
    "        res = list()\n",
    "        hp = [1,]\n",
    "        heapq.heapify(hp)\n",
    "        for i in range(n):\n",
    "            cur = heapq.heappop(hp)\n",
    "            res.append(cur)\n",
    "            cur2,cur3,cur5 = cur * 2, cur * 3, cur * 5\n",
    "            set_lst = set(hp)\n",
    "            tmp_set = {cur2,cur3,cur5}\n",
    "            diff = tmp_set.difference(set_lst)\n",
    "            if diff:\n",
    "                for j in diff:\n",
    "                    heapq.heappush(hp, j)\n",
    "        return res[-1]"
   ]
  },
  {
   "cell_type": "markdown",
   "metadata": {},
   "source": [
    "### 347. 前 K 个高频元素"
   ]
  },
  {
   "cell_type": "code",
   "execution_count": null,
   "metadata": {},
   "outputs": [],
   "source": [
    " # 优先队列；n + nlogk， 时间复杂度： O(nlogk)\n",
    "# 构造 size = k 的最小堆；堆满后，若新加的数大于堆首数，弹出堆首元素 -- 弹出了m-k个最小的，留下k个最大的\n",
    "\n",
    "class Solution:\n",
    "    def topKFrequent(self, nums: List[int], k: int) -> List[int]:\n",
    "        c = collections.Counter(nums)\n",
    "        res = list()\n",
    "        hp = list()\n",
    "        for num,freq in c.items():\n",
    "            # 堆满了k个元素\n",
    "            if len(hp) == k:\n",
    "                # 弹出堆顶(最小频率的元组)\n",
    "                if hp[0][0] < freq:\n",
    "                    heapq.heappop(hp)\n",
    "                    heapq.heappush(hp, (freq,num))\n",
    "            else:\n",
    "                heapq.heappush(hp, (freq,num))\n",
    "        \n",
    "        while hp:\n",
    "            res.append(heapq.heappop(hp)[1])\n",
    "        return res"
   ]
  }
 ],
 "metadata": {
  "kernelspec": {
   "display_name": "Python 3",
   "language": "python",
   "name": "python3"
  },
  "language_info": {
   "codemirror_mode": {
    "name": "ipython",
    "version": 3
   },
   "file_extension": ".py",
   "mimetype": "text/x-python",
   "name": "python",
   "nbconvert_exporter": "python",
   "pygments_lexer": "ipython3",
   "version": "3.7.4"
  }
 },
 "nbformat": 4,
 "nbformat_minor": 4
}
