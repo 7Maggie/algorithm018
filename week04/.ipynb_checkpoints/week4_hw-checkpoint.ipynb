{
 "cells": [
  {
   "cell_type": "markdown",
   "metadata": {},
   "source": [
    "## 简单"
   ]
  },
  {
   "cell_type": "code",
   "execution_count": null,
   "metadata": {},
   "outputs": [],
   "source": [
    "860. 柠檬水找零"
   ]
  },
  {
   "cell_type": "code",
   "execution_count": null,
   "metadata": {},
   "outputs": [],
   "source": [
    "class Solution:\n",
    "    def lemonadeChange(self, bills: List[int]) -> bool:\n",
    "        five = 0\n",
    "        ten = 0\n",
    "        for bill in bills:\n",
    "            if bill == 5:\n",
    "                five += 1\n",
    "            elif bill == 10:\n",
    "                if five > 0:\n",
    "                    five -= 1\n",
    "                    ten += 1\n",
    "                else:\n",
    "                    return False\n",
    "            else:\n",
    "                if five and ten:\n",
    "                    ten -= 1\n",
    "                    five -= 1\n",
    "                elif five >= 3:\n",
    "                    five -= 3\n",
    "                else:\n",
    "                    return False\n",
    "        return True"
   ]
  },
  {
   "cell_type": "code",
   "execution_count": null,
   "metadata": {},
   "outputs": [],
   "source": [
    "122. 买卖股票的最佳时机 II"
   ]
  },
  {
   "cell_type": "code",
   "execution_count": null,
   "metadata": {},
   "outputs": [],
   "source": [
    "class Solution:\n",
    "    def maxProfit(self, prices: List[int]) -> int:\n",
    "        profit = 0\n",
    "        for i in range(1,len(prices)):\n",
    "            tmp = prices[i] - prices[i-1]\n",
    "            if tmp > 0:\n",
    "                profit += tmp\n",
    "        return profit"
   ]
  },
  {
   "cell_type": "code",
   "execution_count": null,
   "metadata": {},
   "outputs": [],
   "source": [
    "455. 分发饼干"
   ]
  },
  {
   "cell_type": "code",
   "execution_count": null,
   "metadata": {},
   "outputs": [],
   "source": [
    "class Solution:\n",
    "    def findContentChildren(self, g: List[int], s: List[int]) -> int:\n",
    "        # 优先用大的饼干满足胃口大的孩子\n",
    "        g.sort()\n",
    "        s.sort()\n",
    "        idx = len(s) - 1\n",
    "        res = 0\n",
    "        for i in range(len(g)-1,-1,-1):\n",
    "            if idx >= 0 and s[idx] >= g[i]:\n",
    "                res += 1\n",
    "                idx -= 1\n",
    "            i -= 1\n",
    "        return res"
   ]
  },
  {
   "cell_type": "code",
   "execution_count": null,
   "metadata": {},
   "outputs": [],
   "source": [
    "874. 模拟行走机器人"
   ]
  },
  {
   "cell_type": "code",
   "execution_count": null,
   "metadata": {},
   "outputs": [],
   "source": [
    "        # [x方向，y方向，向左，向右] (val)\n",
    "        direction = {'up': [0, 1, 'left', 'right'],\n",
    "                     'down': [0, -1, 'right', 'left'],\n",
    "                     'left': [-1, 0, 'down', 'up'],\n",
    "                     'right': [1, 0, 'up', 'down']}\n",
    "        x, y = 0, 0\n",
    "        dir = 'up'\n",
    "        res = 0\n",
    "        obstacles = set(map(tuple, obstacles))\n",
    "        for command in commands:\n",
    "            if command > 0:\n",
    "                # 每次只移动一步，为了保证遇到障碍物之前能走到的最后一个格子\n",
    "                for step in range(command):\n",
    "                    if (x + direction[dir][0], y + direction[dir][1]) not in obstacles:\n",
    "                        x += direction[dir][0]\n",
    "                        y += direction[dir][1]\n",
    "                        res = max(res, x ** 2 + y ** 2)\n",
    "                    else:\n",
    "                        break\n",
    "            else:\n",
    "                if command == -1:\n",
    "                    dir = direction[dir][3]\n",
    "                else:\n",
    "                    dir = direction[dir][2]\n",
    "        return res"
   ]
  },
  {
   "cell_type": "code",
   "execution_count": null,
   "metadata": {},
   "outputs": [],
   "source": [
    "使用二分查找，寻找一个半有序数组 [4, 5, 6, 7, 0, 1, 2] 中间无序的地方"
   ]
  },
  {
   "cell_type": "code",
   "execution_count": null,
   "metadata": {},
   "outputs": [],
   "source": [
    "lst = [4,5,6,7,0,1,2]\n",
    "left, right = 0, len(lst) - 1\n",
    "while left <= right:\n",
    "    mid = int((left + right)/2)\n",
    "    if lst[mid-1] < lst[mid] and lst[mid] > lst[mid+1]:\n",
    "        return mid\n",
    "    elif lst[mid] < lst[mid+1]:\n",
    "        left = mid + 1\n",
    "    else:\n",
    "        right = mid - 1"
   ]
  },
  {
   "cell_type": "markdown",
   "metadata": {},
   "source": [
    "## 中等"
   ]
  },
  {
   "cell_type": "code",
   "execution_count": null,
   "metadata": {},
   "outputs": [],
   "source": [
    "单词接龙"
   ]
  },
  {
   "cell_type": "code",
   "execution_count": null,
   "metadata": {},
   "outputs": [],
   "source": [
    "200.岛屿数量"
   ]
  },
  {
   "cell_type": "code",
   "execution_count": null,
   "metadata": {},
   "outputs": [],
   "source": [
    "class Solution:\n",
    "    def numIslands(self, grid: List[List[str]]) -> int:\n",
    "        def bfs(grid,i,j):\n",
    "            # 设置边界\n",
    "            neighbors = collections.deque([(i, j)])\n",
    "            while neighbors:\n",
    "                i, j = neighbors.popleft()\n",
    "                for x,y in [(i-1,j),(i,j-1),(i+1,j),(i,j+1)]:\n",
    "                    if 0 <= x < len(grid) and 0 <= y < len(grid[0]) and grid[x][y] == '1':\n",
    "                        neighbors.append((x,y))\n",
    "                        grid[x][y] = '0'\n",
    "        \n",
    "        count = 0\n",
    "        for i in range(len(grid)):\n",
    "            for j in range(len(grid[0])):\n",
    "                if grid[i][j] == '1':\n",
    "                    bfs(grid, i, j)\n",
    "                    count += 1\n",
    "        return count"
   ]
  },
  {
   "cell_type": "code",
   "execution_count": null,
   "metadata": {},
   "outputs": [],
   "source": [
    "扫雷游戏"
   ]
  },
  {
   "cell_type": "code",
   "execution_count": null,
   "metadata": {},
   "outputs": [],
   "source": [
    "跳跃游戏"
   ]
  },
  {
   "cell_type": "code",
   "execution_count": null,
   "metadata": {},
   "outputs": [],
   "source": [
    "搜索旋转排序数组"
   ]
  },
  {
   "cell_type": "code",
   "execution_count": null,
   "metadata": {},
   "outputs": [],
   "source": [
    "搜索二维矩阵"
   ]
  },
  {
   "cell_type": "code",
   "execution_count": null,
   "metadata": {},
   "outputs": [],
   "source": [
    "寻找旋转排序数组中的最小值"
   ]
  },
  {
   "cell_type": "markdown",
   "metadata": {},
   "source": [
    "## 困难"
   ]
  },
  {
   "cell_type": "code",
   "execution_count": null,
   "metadata": {},
   "outputs": [],
   "source": [
    "单词接龙 II "
   ]
  },
  {
   "cell_type": "code",
   "execution_count": null,
   "metadata": {},
   "outputs": [],
   "source": [
    "跳跃游戏 II "
   ]
  }
 ],
 "metadata": {
  "kernelspec": {
   "display_name": "Python 3",
   "language": "python",
   "name": "python3"
  },
  "language_info": {
   "codemirror_mode": {
    "name": "ipython",
    "version": 3
   },
   "file_extension": ".py",
   "mimetype": "text/x-python",
   "name": "python",
   "nbconvert_exporter": "python",
   "pygments_lexer": "ipython3",
   "version": "3.7.4"
  }
 },
 "nbformat": 4,
 "nbformat_minor": 4
}
