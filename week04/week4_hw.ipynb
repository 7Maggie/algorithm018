{
 "cells": [
  {
   "cell_type": "markdown",
   "metadata": {},
   "source": [
    "## 简单"
   ]
  },
  {
   "cell_type": "code",
   "execution_count": null,
   "metadata": {},
   "outputs": [],
   "source": [
    "860. 柠檬水找零"
   ]
  },
  {
   "cell_type": "code",
   "execution_count": null,
   "metadata": {},
   "outputs": [],
   "source": [
    "class Solution:\n",
    "    def lemonadeChange(self, bills: List[int]) -> bool:\n",
    "        five = 0\n",
    "        ten = 0\n",
    "        for bill in bills:\n",
    "            if bill == 5:\n",
    "                five += 1\n",
    "            elif bill == 10:\n",
    "                if five > 0:\n",
    "                    five -= 1\n",
    "                    ten += 1\n",
    "                else:\n",
    "                    return False\n",
    "            else:\n",
    "                if five and ten:\n",
    "                    ten -= 1\n",
    "                    five -= 1\n",
    "                elif five >= 3:\n",
    "                    five -= 3\n",
    "                else:\n",
    "                    return False\n",
    "        return True"
   ]
  },
  {
   "cell_type": "code",
   "execution_count": null,
   "metadata": {},
   "outputs": [],
   "source": [
    "122. 买卖股票的最佳时机 II"
   ]
  },
  {
   "cell_type": "code",
   "execution_count": null,
   "metadata": {},
   "outputs": [],
   "source": [
    "class Solution:\n",
    "    def maxProfit(self, prices: List[int]) -> int:\n",
    "        profit = 0\n",
    "        for i in range(1,len(prices)):\n",
    "            tmp = prices[i] - prices[i-1]\n",
    "            if tmp > 0:\n",
    "                profit += tmp\n",
    "        return profit"
   ]
  },
  {
   "cell_type": "code",
   "execution_count": null,
   "metadata": {},
   "outputs": [],
   "source": [
    "455. 分发饼干"
   ]
  },
  {
   "cell_type": "code",
   "execution_count": null,
   "metadata": {},
   "outputs": [],
   "source": [
    "class Solution:\n",
    "    def findContentChildren(self, g: List[int], s: List[int]) -> int:\n",
    "        # 优先用大的饼干满足胃口大的孩子\n",
    "        g.sort()\n",
    "        s.sort()\n",
    "        idx = len(s) - 1\n",
    "        res = 0\n",
    "        for i in range(len(g)-1,-1,-1):\n",
    "            if idx >= 0 and s[idx] >= g[i]:\n",
    "                res += 1\n",
    "                idx -= 1\n",
    "            i -= 1\n",
    "        return res"
   ]
  },
  {
   "cell_type": "code",
   "execution_count": null,
   "metadata": {},
   "outputs": [],
   "source": [
    "874. 模拟行走机器人"
   ]
  },
  {
   "cell_type": "code",
   "execution_count": null,
   "metadata": {},
   "outputs": [],
   "source": [
    "class Solution:\n",
    "    def robotSim(self, commands: List[int], obstacles: List[List[int]]) -> int:\n",
    "        # [x方向,y方向,向左,向右](val)\n",
    "        direction = {\n",
    "            'up': [0,1,'left','right'],\n",
    "            'down': [0,-1,'right','left'],\n",
    "            'left': [-1,0,'down','up'],\n",
    "            'right': [1,0,'up','down']\n",
    "        }\n",
    "        x,y = 0, 0\n",
    "        dir = 'up'\n",
    "        res = 0\n",
    "        obstacles = set(map(tuple,obstacles))\n",
    "        for command in commands:\n",
    "            if command > 0:\n",
    "                # 每次只移动一步，确保在障碍前面停下\n",
    "                for step in range(command):\n",
    "                    if (x + direction[dir][0],y + direction[dir][1]) not in obstacles:\n",
    "                        x += direction[dir][0]\n",
    "                        y += direction[dir][1]\n",
    "                        res = max(res,x**2+y**2)\n",
    "                    else:\n",
    "                        break\n",
    "            else:\n",
    "                if command == -1:\n",
    "                    dir = direction[dir][3]\n",
    "                else:\n",
    "                    dir = direction[dir][2]\n",
    "        return res"
   ]
  },
  {
   "cell_type": "code",
   "execution_count": null,
   "metadata": {},
   "outputs": [],
   "source": [
    "使用二分查找，寻找一个半有序数组 [4, 5, 6, 7, 0, 1, 2] 中间无序的地方"
   ]
  },
  {
   "cell_type": "code",
   "execution_count": null,
   "metadata": {},
   "outputs": [],
   "source": [
    "lst = [4,5,6,7,0,1,2]\n",
    "left, right = 0, len(lst) - 1\n",
    "while left <= right:\n",
    "    mid = int((left + right)/2)\n",
    "    if lst[mid-1] < lst[mid] and lst[mid] > lst[mid+1]:\n",
    "        return mid\n",
    "    elif lst[mid] < lst[mid+1]:\n",
    "        left = mid + 1\n",
    "    else:\n",
    "        right = mid - 1"
   ]
  },
  {
   "cell_type": "markdown",
   "metadata": {},
   "source": [
    "## 中等"
   ]
  },
  {
   "cell_type": "code",
   "execution_count": null,
   "metadata": {},
   "outputs": [],
   "source": [
    "127. 单词接龙"
   ]
  },
  {
   "cell_type": "code",
   "execution_count": null,
   "metadata": {},
   "outputs": [],
   "source": [
    "class Solution:\n",
    "    def ladderLength(self, beginWord: str, endWord: str, wordList: List[str]) -> int:\n",
    "        if not wordList or endWord not in wordList:\n",
    "            return 0\n",
    "        \n",
    "        word_set = set(wordList)\n",
    "        if beginWord in word_set:\n",
    "            word_set.remove(beginWord)\n",
    "        \n",
    "        queue = collections.deque()\n",
    "        queue.append((beginWord,1))\n",
    "        while queue:\n",
    "            word, level = queue.popleft()\n",
    "            if word == endWord:\n",
    "                return level\n",
    "            # 构造每一个位置：*ot, h*t,ho*\n",
    "            for i in range(len(word)):\n",
    "                # 每个位置有26种可能\n",
    "                for j in range(26):\n",
    "                    new_word = word[:i] + chr(ord('a')+j) + word[i+1:]\n",
    "                    if new_word in word_set:\n",
    "                        # 去重，防止重复访问\n",
    "                        word_set.remove(new_word)\n",
    "                        queue.append((new_word,level+1))\n",
    "        return 0"
   ]
  },
  {
   "cell_type": "code",
   "execution_count": null,
   "metadata": {},
   "outputs": [],
   "source": [
    "200.岛屿数量"
   ]
  },
  {
   "cell_type": "code",
   "execution_count": null,
   "metadata": {},
   "outputs": [],
   "source": [
    "class Solution:\n",
    "    def numIslands(self, grid: List[List[str]]) -> int:\n",
    "        def bfs(grid,i,j):\n",
    "            # 设置边界\n",
    "            neighbors = collections.deque([(i, j)])\n",
    "            while neighbors:\n",
    "                i, j = neighbors.popleft()\n",
    "                for x,y in [(i-1,j),(i,j-1),(i+1,j),(i,j+1)]:\n",
    "                    if 0 <= x < len(grid) and 0 <= y < len(grid[0]) and grid[x][y] == '1':\n",
    "                        neighbors.append((x,y))\n",
    "                        grid[x][y] = '0'\n",
    "        \n",
    "        count = 0\n",
    "        for i in range(len(grid)):\n",
    "            for j in range(len(grid[0])):\n",
    "                if grid[i][j] == '1':\n",
    "                    bfs(grid, i, j)\n",
    "                    count += 1\n",
    "        return count"
   ]
  },
  {
   "cell_type": "code",
   "execution_count": null,
   "metadata": {},
   "outputs": [],
   "source": [
    "扫雷游戏"
   ]
  },
  {
   "cell_type": "code",
   "execution_count": null,
   "metadata": {},
   "outputs": [],
   "source": [
    "55. 跳跃游戏"
   ]
  },
  {
   "cell_type": "code",
   "execution_count": null,
   "metadata": {},
   "outputs": [],
   "source": [
    "class Solution:\n",
    "    def canJump(self, nums: List[int]) -> bool:\n",
    "        # 贪心算法，计算每个位置能到达的最远距离\n",
    "        rightmost = 0\n",
    "        n = len(nums)\n",
    "        for i in range(n):\n",
    "            # 通过前面的位置跳跃，能够到达位置i\n",
    "            if i <= rightmost:\n",
    "                rightmost = max(rightmost,i+nums[i])\n",
    "                if rightmost >= n-1:\n",
    "                    return True\n",
    "        return False"
   ]
  },
  {
   "cell_type": "code",
   "execution_count": null,
   "metadata": {},
   "outputs": [],
   "source": [
    "33. 搜索旋转排序数组"
   ]
  },
  {
   "cell_type": "code",
   "execution_count": null,
   "metadata": {},
   "outputs": [],
   "source": [
    "class Solution:\n",
    "    def search(self, nums: List[int], target: int) -> int:\n",
    "        if not nums:\n",
    "            return -1\n",
    "        left = 0\n",
    "        right = len(nums) - 1\n",
    "        while left <= right:\n",
    "            mid = (left + right) // 2\n",
    "            if nums[mid] == target:\n",
    "                return mid\n",
    "            # 0到mid是递增序列\n",
    "            if nums[0] <= nums[mid]:\n",
    "                if nums[0] <= target < nums[mid]:\n",
    "                    right = mid - 1\n",
    "                else:\n",
    "                    left = mid + 1\n",
    "            # 0到mid不是完全递增序列，但是mid到结尾是递增数列\n",
    "            else:\n",
    "                if nums[mid] < target <= nums[len(nums) - 1]:\n",
    "                    left = mid + 1\n",
    "                else:\n",
    "                    right = mid - 1\n",
    "        return -1"
   ]
  },
  {
   "cell_type": "code",
   "execution_count": null,
   "metadata": {},
   "outputs": [],
   "source": [
    "74. 搜索二维矩阵"
   ]
  },
  {
   "cell_type": "code",
   "execution_count": null,
   "metadata": {},
   "outputs": [],
   "source": [
    "class Solution:\n",
    "    def searchMatrix(self, matrix: List[List[int]], target: int) -> bool:\n",
    "        m = len(matrix)\n",
    "        if m == 0:\n",
    "            return False\n",
    "        n = len(matrix[0])\n",
    "        left = 0\n",
    "        right = m * n - 1\n",
    "        while left <= right:\n",
    "            idx = (left + right)//2\n",
    "            idx_element = matrix[idx//n][idx%n]\n",
    "            if target == idx_element:\n",
    "                return True\n",
    "            else:\n",
    "                if target < idx_element:\n",
    "                    right = idx - 1\n",
    "                else:\n",
    "                    left = idx + 1\n",
    "        return False"
   ]
  },
  {
   "cell_type": "code",
   "execution_count": null,
   "metadata": {},
   "outputs": [],
   "source": [
    "153. 寻找旋转排序数组中的最小值"
   ]
  },
  {
   "cell_type": "code",
   "execution_count": null,
   "metadata": {},
   "outputs": [],
   "source": [
    "class Solution:\n",
    "    def findMin(self, nums: List[int]) -> int:\n",
    "        if len(nums) == 1:\n",
    "            return nums[0]\n",
    "        left = 0\n",
    "        right = len(nums) - 1\n",
    "        if nums[right] > nums[0]:\n",
    "            return nums[0]\n",
    "        # 二分查找\n",
    "        while left <= right:\n",
    "            mid = left + (right - left)//2\n",
    "            # 满足其中一个条件即可\n",
    "            if nums[mid] > nums[mid+1]:\n",
    "                return nums[mid+1]\n",
    "            # 满足其中一个条件即可\n",
    "            if nums[mid-1] > nums[mid]:\n",
    "                return nums[mid]\n",
    "            if nums[mid]>nums[0]:\n",
    "                left = mid + 1\n",
    "            else:\n",
    "                right = mid - 1"
   ]
  },
  {
   "cell_type": "markdown",
   "metadata": {},
   "source": [
    "## 困难"
   ]
  },
  {
   "cell_type": "code",
   "execution_count": null,
   "metadata": {},
   "outputs": [],
   "source": [
    "126. 单词接龙 II"
   ]
  },
  {
   "cell_type": "code",
   "execution_count": null,
   "metadata": {},
   "outputs": [],
   "source": [
    "class Solution:\n",
    "    def findLadders(self, beginWord: str, endWord: str, wordList: List[str]) -> List[List[str]]:\n",
    "        wordList = set(wordList)\n",
    "        d = collections.defaultdict(list)\n",
    "        n = len(beginWord)\n",
    "\n",
    "        for word in wordList:\n",
    "            for i in range(n):\n",
    "                d[word[:i]+'*'+word[i+1:]].append(word)\n",
    "        \n",
    "        queue = collections.deque([(beginWord,[beginWord])])\n",
    "        tmp_queue = collections.deque()\n",
    "        visited = set()\n",
    "        res = list()\n",
    "\n",
    "        while queue:\n",
    "            while queue:\n",
    "                word, path = queue.popleft()\n",
    "                if word == endWord:\n",
    "                    res.append(path)\n",
    "                visited.add(word)\n",
    "                for i in range(n):\n",
    "                    for v in d[word[:i]+'*'+word[i+1:]]:\n",
    "                        if v not in visited:\n",
    "                            tmp_queue.append((v,path+[v]))\n",
    "            if res:\n",
    "                return res\n",
    "            queue, tmp_queue = tmp_queue,queue\n",
    "        return []"
   ]
  },
  {
   "cell_type": "code",
   "execution_count": null,
   "metadata": {},
   "outputs": [],
   "source": [
    "45. 跳跃游戏 II"
   ]
  },
  {
   "cell_type": "code",
   "execution_count": null,
   "metadata": {},
   "outputs": [],
   "source": [
    "class Solution:\n",
    "    def jump(self, nums: List[int]) -> int:\n",
    "        maxPos = 0\n",
    "        end = 0\n",
    "        n = len(nums)\n",
    "        step = 0\n",
    "        # 遍历不需要到最后一个元素，否则多加了一步\n",
    "        for i in range(n-1):\n",
    "            if i <= maxPos:\n",
    "                maxPos = max(maxPos,i + nums[i])\n",
    "                if i == end:\n",
    "                    end = maxPos\n",
    "                    step += 1\n",
    "        return step"
   ]
  }
 ],
 "metadata": {
  "kernelspec": {
   "display_name": "Python 3",
   "language": "python",
   "name": "python3"
  },
  "language_info": {
   "codemirror_mode": {
    "name": "ipython",
    "version": 3
   },
   "file_extension": ".py",
   "mimetype": "text/x-python",
   "name": "python",
   "nbconvert_exporter": "python",
   "pygments_lexer": "ipython3",
   "version": "3.7.4"
  }
 },
 "nbformat": 4,
 "nbformat_minor": 4
}
