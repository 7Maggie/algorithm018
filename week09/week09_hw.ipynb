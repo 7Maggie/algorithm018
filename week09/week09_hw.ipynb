{
 "cells": [
  {
   "cell_type": "code",
   "execution_count": null,
   "metadata": {},
   "outputs": [],
   "source": [
    "# 91. 解码方法\n",
    "class Solution:\n",
    "    def numDecodings(self, s: str) -> int:\n",
    "        n = len(s)\n",
    "        if n == 0:\n",
    "            return 0\n",
    "        dp = [0]*(n+1)\n",
    "        dp[0] = 1\n",
    "        for i in range(1,n+1):\n",
    "            t = int(s[i-1])\n",
    "            # 最后一个字母由最后一个数字解密得到\n",
    "            if t >= 1 and t <= 9:\n",
    "                dp[i] += dp[i-1]\n",
    "            # 最后一个字母由最后两个数字解密得到\n",
    "            if i >= 2:\n",
    "                t = int(s[i-2]) * 10 + int(s[i-1])\n",
    "                if t >= 10 and t <= 26:\n",
    "                    dp[i] += dp[i-2]\n",
    "        return dp[-1]"
   ]
  },
  {
   "cell_type": "code",
   "execution_count": null,
   "metadata": {},
   "outputs": [],
   "source": [
    "# 5. 最长回文子串\n",
    "class Solution:\n",
    "    def longestPalindrome(self, s: str) -> str:\n",
    "        n = len(s)\n",
    "        # dp[i][j]表示字符串s的第i个字符到第j个字符是否为回文子串\n",
    "        dp = [[False] * n for i in range(n)]\n",
    "        res = ''\n",
    "        # 枚举子串的长度为size+1\n",
    "        for size in range(n):\n",
    "            for i in range(n):\n",
    "                j = i + size\n",
    "                # 特殊情况，超出长度\n",
    "                if j >= n:\n",
    "                    break\n",
    "                # 特殊情况：当子串长度为1时，是回文子串\n",
    "                if size == 0:\n",
    "                    dp[i][j] = True\n",
    "                # 特殊情况：当子串长度为2时，两个字符相同，则为回文串\n",
    "                elif size == 1:\n",
    "                    dp[i][j] = (s[i]==s[j])\n",
    "                # 回文串子串，头尾添上相同的字符，仍为回文串\n",
    "                else:\n",
    "                    dp[i][j] = (dp[i+1][j-1] and s[i] == s[j])\n",
    "                # 找到最长的回文子串\n",
    "                if dp[i][j] and size + 1 > len(res):\n",
    "                    res = s[i:j+1]\n",
    "        return res"
   ]
  }
 ],
 "metadata": {
  "kernelspec": {
   "display_name": "Python 3",
   "language": "python",
   "name": "python3"
  },
  "language_info": {
   "codemirror_mode": {
    "name": "ipython",
    "version": 3
   },
   "file_extension": ".py",
   "mimetype": "text/x-python",
   "name": "python",
   "nbconvert_exporter": "python",
   "pygments_lexer": "ipython3",
   "version": "3.7.4"
  }
 },
 "nbformat": 4,
 "nbformat_minor": 4
}
