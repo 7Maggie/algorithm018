{
 "cells": [
  {
   "cell_type": "markdown",
   "metadata": {},
   "source": [
    "## 中等"
   ]
  },
  {
   "cell_type": "markdown",
   "metadata": {},
   "source": [
    "### 236. 二叉树的最近公共祖先"
   ]
  },
  {
   "cell_type": "code",
   "execution_count": 3,
   "metadata": {},
   "outputs": [],
   "source": [
    "class Solution:\n",
    "    def lowestCommonAncestor(self, root: 'TreeNode', p: 'TreeNode', q: 'TreeNode') -> 'TreeNode':\n",
    "        # 当 root 等于p,q，直接返回root\n",
    "        if not root or root == p or root == q:\n",
    "            return root\n",
    "        left = self.lowestCommonAncestor(root.left,p,q)\n",
    "        right = self.lowestCommonAncestor(root.right,p,q)\n",
    "        \n",
    "        # 同时为空，说明左右子树都不包含p,q返回null\n",
    "        if not left and not right:\n",
    "            return\n",
    "        # p,q不在左子树\n",
    "        if not left:\n",
    "            return right\n",
    "        # p,q不在右子树\n",
    "        if not right:\n",
    "            return left\n",
    "        # p,q分别在异侧\n",
    "        return root"
   ]
  },
  {
   "cell_type": "markdown",
   "metadata": {},
   "source": [
    "### 105. 从前序与中序遍历序列构造二叉树"
   ]
  },
  {
   "cell_type": "code",
   "execution_count": null,
   "metadata": {},
   "outputs": [],
   "source": [
    "class Solution:\n",
    "    def buildTree(self, preorder: List[int], inorder: List[int]) -> TreeNode:\n",
    "        # 前序遍历： 根-左子树-右子树\n",
    "        # 中序遍历： 左子树-根-右子树\n",
    "        def myBuildTree(preorder_left: int, preorder_right: int, inorder_left: int, inorder_right: int):\n",
    "            if preorder_left > preorder_right:\n",
    "                return None\n",
    "            preorder_root = preorder_left\n",
    "            inorder_root = index_dict[preorder[preorder_root]]\n",
    "            root = TreeNode(preorder[preorder_root])\n",
    "\n",
    "            root.left = myBuildTree(preorder_left+1, inorder_root-inorder_left + preorder_left, inorder_left, inorder_left-1)\n",
    "            root.right = myBuildTree(inorder_root-inorder_left + preorder_left+1, preorder_right, inorder_root+1, inorder_right)\n",
    "            return root\n",
    "        \n",
    "        n = len(preorder)\n",
    "        index_dict = {element: i for i, element in enumerate(inorder)}\n",
    "        return myBuildTree(0, n-1, 0, n-1)"
   ]
  },
  {
   "cell_type": "markdown",
   "metadata": {},
   "source": [
    "### 77. 组合"
   ]
  },
  {
   "cell_type": "code",
   "execution_count": null,
   "metadata": {},
   "outputs": [],
   "source": [
    "class Solution:\n",
    "    def combine(self, n: int, k: int) -> List[List[int]]:\n",
    "        res = list()\n",
    "        track = list()\n",
    "\n",
    "        def backtrack(n, k, begin, track, res):\n",
    "            if len(track) == k:\n",
    "                res.append(track[:])\n",
    "            for i in range(begin, n+1):\n",
    "                # 做出选择\n",
    "                track.append(i)\n",
    "                # 进入下一层\n",
    "                backtrack(n, k, i+1, track, res)\n",
    "                # 撤销选择\n",
    "                track.pop()\n",
    "        \n",
    "        backtrack(n, k, 1, track, res)\n",
    "        return res"
   ]
  },
  {
   "cell_type": "markdown",
   "metadata": {},
   "source": [
    "### 46. 全排列"
   ]
  },
  {
   "cell_type": "code",
   "execution_count": null,
   "metadata": {},
   "outputs": [],
   "source": [
    "class Solution:\n",
    "    def permute(self, nums: List[int]) -> List[List[int]]:\n",
    "        def backtrack(nums,track):\n",
    "            # 结束条件\n",
    "            if len(track) == len(nums):\n",
    "                res.append(track[:])\n",
    "                return\n",
    "            for i in range(0,len(nums)):\n",
    "                # 排除不合法选择（已经选过的数不能再选）\n",
    "                if nums[i] in track:\n",
    "                    continue\n",
    "                # 做选择\n",
    "                track.append(nums[i])\n",
    "                # 进入下一层决策树\n",
    "                backtrack(nums,track)\n",
    "                # 撤销选择\n",
    "                track.pop()\n",
    "\n",
    "        track = []\n",
    "        res = []\n",
    "        backtrack(nums,track)\n",
    "        return res"
   ]
  },
  {
   "cell_type": "markdown",
   "metadata": {},
   "source": [
    "### 47. 全排列 II"
   ]
  },
  {
   "cell_type": "code",
   "execution_count": null,
   "metadata": {},
   "outputs": [],
   "source": [
    "class Solution:\n",
    "    def permuteUnique(self, nums: List[int]) -> List[List[int]]:\n",
    "        nums.sort()\n",
    "        res = list()\n",
    "        check = [0 for i in range(len(nums))]\n",
    "\n",
    "        def backtrack(sub_res, nums, check):\n",
    "            if len(sub_res) == len(nums):\n",
    "                res.append(sub_res)\n",
    "                return\n",
    "            \n",
    "            for i in range(len(nums)):\n",
    "                if check[i] == 1:\n",
    "                    continue\n",
    "                if i > 0 and nums[i] == nums[i-1] and check[i-1] == 0:\n",
    "                    continue\n",
    "                check[i] = 1\n",
    "                backtrack(sub_res + [nums[i]], nums, check)\n",
    "                check[i] = 0\n",
    "        \n",
    "        backtrack([], nums, check)\n",
    "        return res"
   ]
  }
 ],
 "metadata": {
  "kernelspec": {
   "display_name": "Python 3",
   "language": "python",
   "name": "python3"
  },
  "language_info": {
   "codemirror_mode": {
    "name": "ipython",
    "version": 3
   },
   "file_extension": ".py",
   "mimetype": "text/x-python",
   "name": "python",
   "nbconvert_exporter": "python",
   "pygments_lexer": "ipython3",
   "version": "3.7.4"
  }
 },
 "nbformat": 4,
 "nbformat_minor": 4
}
