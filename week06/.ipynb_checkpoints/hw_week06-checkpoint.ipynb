{
 "cells": [
  {
   "cell_type": "code",
   "execution_count": null,
   "metadata": {},
   "outputs": [],
   "source": [
    "中等"
   ]
  },
  {
   "cell_type": "code",
   "execution_count": null,
   "metadata": {},
   "outputs": [],
   "source": [
    "64. 最小路径和"
   ]
  },
  {
   "cell_type": "code",
   "execution_count": null,
   "metadata": {},
   "outputs": [],
   "source": [
    "class Solution:\n",
    "    def minPathSum(self, grid: List[List[int]]) -> int:\n",
    "        if not grid or not grid[0]:\n",
    "            return 0\n",
    "        r = len(grid)\n",
    "        c = len(grid[0])\n",
    "        dp = [[0]*c for _ in range(r)]\n",
    "        dp[0][0] = grid[0][0]\n",
    "        # 第0列，只有一种方法，从上一个格子往下走到该格子\n",
    "        for i in range(1,r):\n",
    "            dp[i][0] = dp[i-1][0] + grid[i][0]\n",
    "        # 第0行，只有一种方法，从左边格子往右走到该格子\n",
    "        for j in range(1,c):\n",
    "            dp[0][j] = dp[0][j-1] + grid[0][j]\n",
    "        # 其它位置，左边格子和上边格子中的最小路径+该格子数字\n",
    "        for i in range(1,r):\n",
    "            for j in range(1,c):\n",
    "                dp[i][j] = min(dp[i-1][j],dp[i][j-1]) + grid[i][j]\n",
    "        return dp[r-1][c-1]"
   ]
  },
  {
   "cell_type": "code",
   "execution_count": null,
   "metadata": {},
   "outputs": [],
   "source": [
    "91. 解码方法"
   ]
  },
  {
   "cell_type": "code",
   "execution_count": null,
   "metadata": {},
   "outputs": [],
   "source": [
    "class Solution:\n",
    "    def numDecodings(self, s: str) -> int:\n",
    "        n = len(s)\n",
    "        if n == 0:\n",
    "            return 0\n",
    "        dp = [0]*(n+1)\n",
    "        dp[0] = 1 \n",
    "        # 设数字串S的前i个数字解密成字母串有dp[i]种方式：那么就有dp[i] = dp[i-1] + dp[i-2]\n",
    "        for i in range(1,n+1):\n",
    "            # 最后一个数字解密成一个字母\n",
    "            if int(s[i-1]) != 0:\n",
    "                dp[i] += dp[i-1]\n",
    "            # 最后两个数字解密成一个一个字母\n",
    "            if i >=2:\n",
    "                t = int(s[i-2])*10 + int(s[i-1])\n",
    "                if 10 <= t <=26:\n",
    "                    dp[i] += dp[i-2]\n",
    "        return dp[-1]"
   ]
  },
  {
   "cell_type": "code",
   "execution_count": null,
   "metadata": {},
   "outputs": [],
   "source": [
    "221. 最大正方形"
   ]
  },
  {
   "cell_type": "code",
   "execution_count": null,
   "metadata": {},
   "outputs": [],
   "source": [
    "621. 任务调度器"
   ]
  },
  {
   "cell_type": "code",
   "execution_count": null,
   "metadata": {},
   "outputs": [],
   "source": [
    "647. 回文子串"
   ]
  },
  {
   "cell_type": "code",
   "execution_count": null,
   "metadata": {},
   "outputs": [],
   "source": [
    "困难"
   ]
  },
  {
   "cell_type": "code",
   "execution_count": null,
   "metadata": {},
   "outputs": [],
   "source": [
    "32. 最长有效括号"
   ]
  },
  {
   "cell_type": "code",
   "execution_count": null,
   "metadata": {},
   "outputs": [],
   "source": [
    "72. 编辑距离"
   ]
  },
  {
   "cell_type": "code",
   "execution_count": null,
   "metadata": {},
   "outputs": [],
   "source": [
    "363. 矩形区域不超过 K 的最大数值和"
   ]
  },
  {
   "cell_type": "code",
   "execution_count": null,
   "metadata": {},
   "outputs": [],
   "source": [
    "403. 青蛙过河"
   ]
  },
  {
   "cell_type": "code",
   "execution_count": null,
   "metadata": {},
   "outputs": [],
   "source": [
    "410. 分割数组的最大值"
   ]
  },
  {
   "cell_type": "code",
   "execution_count": null,
   "metadata": {},
   "outputs": [],
   "source": [
    "552. 学生出勤记录 II"
   ]
  },
  {
   "cell_type": "code",
   "execution_count": null,
   "metadata": {},
   "outputs": [],
   "source": [
    "76. 最小覆盖子串"
   ]
  },
  {
   "cell_type": "code",
   "execution_count": null,
   "metadata": {},
   "outputs": [],
   "source": [
    "312. 戳气球"
   ]
  }
 ],
 "metadata": {
  "kernelspec": {
   "display_name": "Python 3",
   "language": "python",
   "name": "python3"
  },
  "language_info": {
   "codemirror_mode": {
    "name": "ipython",
    "version": 3
   },
   "file_extension": ".py",
   "mimetype": "text/x-python",
   "name": "python",
   "nbconvert_exporter": "python",
   "pygments_lexer": "ipython3",
   "version": "3.7.4"
  }
 },
 "nbformat": 4,
 "nbformat_minor": 4
}
